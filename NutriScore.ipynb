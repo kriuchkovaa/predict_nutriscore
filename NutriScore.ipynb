{
 "cells": [
  {
   "cell_type": "code",
   "execution_count": 1,
   "metadata": {
    "tags": []
   },
   "outputs": [
    {
     "name": "stdout",
     "output_type": "stream",
     "text": [
      "/home/bofh/home/code/ML/tmp\n"
     ]
    }
   ],
   "source": [
    "!pwd"
   ]
  },
  {
   "cell_type": "code",
   "execution_count": 2,
   "metadata": {
    "tags": []
   },
   "outputs": [
    {
     "name": "stderr",
     "output_type": "stream",
     "text": [
      "23/06/11 11:35:39 WARN Utils: Your hostname, bofh-h97md3h resolves to a loopback address: 127.0.1.1; using 192.168.1.45 instead (on interface enp3s0)\n",
      "23/06/11 11:35:39 WARN Utils: Set SPARK_LOCAL_IP if you need to bind to another address\n",
      "Setting default log level to \"WARN\".\n",
      "To adjust logging level use sc.setLogLevel(newLevel). For SparkR, use setLogLevel(newLevel).\n",
      "23/06/11 11:35:39 WARN NativeCodeLoader: Unable to load native-hadoop library for your platform... using builtin-java classes where applicable\n"
     ]
    }
   ],
   "source": [
    "# Initiate a SparkSession\n",
    "from pyspark.sql import SparkSession\n",
    "spark = SparkSession.builder.appName('explore data').config(\"spark.driver.memory\", \"4g\").config(\"spark.executor.memory\", \"28g\").getOrCreate()"
   ]
  },
  {
   "cell_type": "code",
   "execution_count": 3,
   "metadata": {
    "tags": []
   },
   "outputs": [],
   "source": [
    "# read from a .tsv file with proper separators being specified to avoid parsing issues \n",
    "df = spark.read.csv(\"/home/bofh/home/code/ML/tmp/OpenFoodFacts/en.openfoodfacts.org.products.csv\", sep=r'\\t', header = True)"
   ]
  },
  {
   "cell_type": "code",
   "execution_count": 4,
   "metadata": {
    "tags": []
   },
   "outputs": [
    {
     "name": "stdout",
     "output_type": "stream",
     "text": [
      "201\n"
     ]
    },
    {
     "name": "stderr",
     "output_type": "stream",
     "text": [
      "[Stage 1:=================================================>       (52 + 8) / 60]\r"
     ]
    },
    {
     "name": "stdout",
     "output_type": "stream",
     "text": [
      "2809009\n"
     ]
    },
    {
     "name": "stderr",
     "output_type": "stream",
     "text": [
      "                                                                                \r"
     ]
    }
   ],
   "source": [
    "# Calculating total number of features\n",
    "print(len(df.columns))\n",
    "print(df.count())\n",
    "\n",
    "# In the original dataset, we have 163 columns and 356027 rows     |    1 GB of data"
   ]
  },
  {
   "cell_type": "code",
   "execution_count": 5,
   "metadata": {
    "tags": []
   },
   "outputs": [
    {
     "data": {
      "text/plain": [
       "['code',\n",
       " 'url',\n",
       " 'creator',\n",
       " 'created_t',\n",
       " 'created_datetime',\n",
       " 'last_modified_t',\n",
       " 'last_modified_datetime',\n",
       " 'last_modified_by',\n",
       " 'product_name',\n",
       " 'abbreviated_product_name',\n",
       " 'generic_name',\n",
       " 'quantity',\n",
       " 'packaging',\n",
       " 'packaging_tags',\n",
       " 'packaging_en',\n",
       " 'packaging_text',\n",
       " 'brands',\n",
       " 'brands_tags',\n",
       " 'categories',\n",
       " 'categories_tags',\n",
       " 'categories_en',\n",
       " 'origins',\n",
       " 'origins_tags',\n",
       " 'origins_en',\n",
       " 'manufacturing_places',\n",
       " 'manufacturing_places_tags',\n",
       " 'labels',\n",
       " 'labels_tags',\n",
       " 'labels_en',\n",
       " 'emb_codes',\n",
       " 'emb_codes_tags',\n",
       " 'first_packaging_code_geo',\n",
       " 'cities',\n",
       " 'cities_tags',\n",
       " 'purchase_places',\n",
       " 'stores',\n",
       " 'countries',\n",
       " 'countries_tags',\n",
       " 'countries_en',\n",
       " 'ingredients_text',\n",
       " 'ingredients_tags',\n",
       " 'ingredients_analysis_tags',\n",
       " 'allergens',\n",
       " 'allergens_en',\n",
       " 'traces',\n",
       " 'traces_tags',\n",
       " 'traces_en',\n",
       " 'serving_size',\n",
       " 'serving_quantity',\n",
       " 'no_nutrition_data',\n",
       " 'additives_n',\n",
       " 'additives',\n",
       " 'additives_tags',\n",
       " 'additives_en',\n",
       " 'nutriscore_score',\n",
       " 'nutriscore_grade',\n",
       " 'nova_group',\n",
       " 'pnns_groups_1',\n",
       " 'pnns_groups_2',\n",
       " 'food_groups',\n",
       " 'food_groups_tags',\n",
       " 'food_groups_en',\n",
       " 'states',\n",
       " 'states_tags',\n",
       " 'states_en',\n",
       " 'brand_owner',\n",
       " 'ecoscore_score',\n",
       " 'ecoscore_grade',\n",
       " 'nutrient_levels_tags',\n",
       " 'product_quantity',\n",
       " 'owner',\n",
       " 'data_quality_errors_tags',\n",
       " 'unique_scans_n',\n",
       " 'popularity_tags',\n",
       " 'completeness',\n",
       " 'last_image_t',\n",
       " 'last_image_datetime',\n",
       " 'main_category',\n",
       " 'main_category_en',\n",
       " 'image_url',\n",
       " 'image_small_url',\n",
       " 'image_ingredients_url',\n",
       " 'image_ingredients_small_url',\n",
       " 'image_nutrition_url',\n",
       " 'image_nutrition_small_url',\n",
       " 'energy-kj_100g',\n",
       " 'energy-kcal_100g',\n",
       " 'energy_100g',\n",
       " 'energy-from-fat_100g',\n",
       " 'fat_100g',\n",
       " 'saturated-fat_100g',\n",
       " 'butyric-acid_100g',\n",
       " 'caproic-acid_100g',\n",
       " 'caprylic-acid_100g',\n",
       " 'capric-acid_100g',\n",
       " 'lauric-acid_100g',\n",
       " 'myristic-acid_100g',\n",
       " 'palmitic-acid_100g',\n",
       " 'stearic-acid_100g',\n",
       " 'arachidic-acid_100g',\n",
       " 'behenic-acid_100g',\n",
       " 'lignoceric-acid_100g',\n",
       " 'cerotic-acid_100g',\n",
       " 'montanic-acid_100g',\n",
       " 'melissic-acid_100g',\n",
       " 'unsaturated-fat_100g',\n",
       " 'monounsaturated-fat_100g',\n",
       " 'polyunsaturated-fat_100g',\n",
       " 'omega-3-fat_100g',\n",
       " 'alpha-linolenic-acid_100g',\n",
       " 'eicosapentaenoic-acid_100g',\n",
       " 'docosahexaenoic-acid_100g',\n",
       " 'omega-6-fat_100g',\n",
       " 'linoleic-acid_100g',\n",
       " 'arachidonic-acid_100g',\n",
       " 'gamma-linolenic-acid_100g',\n",
       " 'dihomo-gamma-linolenic-acid_100g',\n",
       " 'omega-9-fat_100g',\n",
       " 'oleic-acid_100g',\n",
       " 'elaidic-acid_100g',\n",
       " 'gondoic-acid_100g',\n",
       " 'mead-acid_100g',\n",
       " 'erucic-acid_100g',\n",
       " 'nervonic-acid_100g',\n",
       " 'trans-fat_100g',\n",
       " 'cholesterol_100g',\n",
       " 'carbohydrates_100g',\n",
       " 'sugars_100g',\n",
       " 'added-sugars_100g',\n",
       " 'sucrose_100g',\n",
       " 'glucose_100g',\n",
       " 'fructose_100g',\n",
       " 'lactose_100g',\n",
       " 'maltose_100g',\n",
       " 'maltodextrins_100g',\n",
       " 'starch_100g',\n",
       " 'polyols_100g',\n",
       " 'erythritol_100g',\n",
       " 'fiber_100g',\n",
       " 'soluble-fiber_100g',\n",
       " 'insoluble-fiber_100g',\n",
       " 'proteins_100g',\n",
       " 'casein_100g',\n",
       " 'serum-proteins_100g',\n",
       " 'nucleotides_100g',\n",
       " 'salt_100g',\n",
       " 'added-salt_100g',\n",
       " 'sodium_100g',\n",
       " 'alcohol_100g',\n",
       " 'vitamin-a_100g',\n",
       " 'beta-carotene_100g',\n",
       " 'vitamin-d_100g',\n",
       " 'vitamin-e_100g',\n",
       " 'vitamin-k_100g',\n",
       " 'vitamin-c_100g',\n",
       " 'vitamin-b1_100g',\n",
       " 'vitamin-b2_100g',\n",
       " 'vitamin-pp_100g',\n",
       " 'vitamin-b6_100g',\n",
       " 'vitamin-b9_100g',\n",
       " 'folates_100g',\n",
       " 'vitamin-b12_100g',\n",
       " 'biotin_100g',\n",
       " 'pantothenic-acid_100g',\n",
       " 'silica_100g',\n",
       " 'bicarbonate_100g',\n",
       " 'potassium_100g',\n",
       " 'chloride_100g',\n",
       " 'calcium_100g',\n",
       " 'phosphorus_100g',\n",
       " 'iron_100g',\n",
       " 'magnesium_100g',\n",
       " 'zinc_100g',\n",
       " 'copper_100g',\n",
       " 'manganese_100g',\n",
       " 'fluoride_100g',\n",
       " 'selenium_100g',\n",
       " 'chromium_100g',\n",
       " 'molybdenum_100g',\n",
       " 'iodine_100g',\n",
       " 'caffeine_100g',\n",
       " 'taurine_100g',\n",
       " 'ph_100g',\n",
       " 'fruits-vegetables-nuts_100g',\n",
       " 'fruits-vegetables-nuts-dried_100g',\n",
       " 'fruits-vegetables-nuts-estimate_100g',\n",
       " 'fruits-vegetables-nuts-estimate-from-ingredients_100g',\n",
       " 'collagen-meat-protein-ratio_100g',\n",
       " 'cocoa_100g',\n",
       " 'chlorophyl_100g',\n",
       " 'carbon-footprint_100g',\n",
       " 'carbon-footprint-from-meat-or-fish_100g',\n",
       " 'nutrition-score-fr_100g',\n",
       " 'nutrition-score-uk_100g',\n",
       " 'glycemic-index_100g',\n",
       " 'water-hardness_100g',\n",
       " 'choline_100g',\n",
       " 'phylloquinone_100g',\n",
       " 'beta-glucan_100g',\n",
       " 'inositol_100g',\n",
       " 'carnitine_100g']"
      ]
     },
     "execution_count": 5,
     "metadata": {},
     "output_type": "execute_result"
    }
   ],
   "source": [
    "# Exploring column names \n",
    "df.columns"
   ]
  },
  {
   "cell_type": "code",
   "execution_count": 6,
   "metadata": {
    "tags": []
   },
   "outputs": [],
   "source": [
    "# # Saving names of columns we would like to get rid of into a list populated from a previously created .txt file\n",
    "# fileobj = open(\"dropped columns.txt\")\n",
    "# column_list = []\n",
    "# for column in fileobj:\n",
    "#     column_list.append(column.strip().replace(\"'\", \"\").replace(\",\", \"\"))\n",
    "df = df.select('last_modified_datetime','product_name','quantity','packaging','brands','categories_en','labels_en','countries_en','allergens_en','traces_en','serving_size','additives_n','additives_en','energy_100g','fat_100g','saturated-fat_100g','butyric-acid_100g','caproic-acid_100g','caprylic-acid_100g','capric-acid_100g','lauric-acid_100g','myristic-acid_100g','stearic-acid_100g','arachidic-acid_100g','behenic-acid_100g','lignoceric-acid_100g','cerotic-acid_100g','montanic-acid_100g','melissic-acid_100g','monounsaturated-fat_100g','polyunsaturated-fat_100g','omega-3-fat_100g','alpha-linolenic-acid_100g','eicosapentaenoic-acid_100g','docosahexaenoic-acid_100g','omega-6-fat_100g','linoleic-acid_100g','arachidonic-acid_100g','gamma-linolenic-acid_100g','dihomo-gamma-linolenic-acid_100g','omega-9-fat_100g','oleic-acid_100g','elaidic-acid_100g','gondoic-acid_100g','mead-acid_100g','erucic-acid_100g','nervonic-acid_100g','trans-fat_100g','cholesterol_100g','carbohydrates_100g','sugars_100g','sucrose_100g','glucose_100g','fructose_100g','lactose_100g','maltose_100g','maltodextrins_100g','starch_100g','polyols_100g','fiber_100g','proteins_100g','casein_100g','serum-proteins_100g','nucleotides_100g','salt_100g','sodium_100g','alcohol_100g','vitamin-a_100g','beta-carotene_100g','vitamin-d_100g','vitamin-e_100g','vitamin-k_100g','vitamin-c_100g','vitamin-b1_100g','vitamin-b2_100g','vitamin-pp_100g','vitamin-b6_100g','vitamin-b9_100g','folates_100g','vitamin-b12_100g','biotin_100g','pantothenic-acid_100g','silica_100g','bicarbonate_100g','potassium_100g','chloride_100g','calcium_100g','phosphorus_100g','iron_100g','magnesium_100g','zinc_100g','copper_100g','manganese_100g','fluoride_100g','selenium_100g','chromium_100g','molybdenum_100g','iodine_100g','caffeine_100g','taurine_100g','ph_100g','fruits-vegetables-nuts_100g','fruits-vegetables-nuts-estimate_100g','collagen-meat-protein-ratio_100g','cocoa_100g','chlorophyl_100g','carbon-footprint_100g','nutrition-score-fr_100g','nutrition-score-uk_100g','glycemic-index_100g','water-hardness_100g')"
   ]
  },
  {
   "cell_type": "code",
   "execution_count": 7,
   "metadata": {
    "tags": []
   },
   "outputs": [
    {
     "name": "stdout",
     "output_type": "stream",
     "text": [
      "root\n",
      " |-- last_modified_datetime: string (nullable = true)\n",
      " |-- product_name: string (nullable = true)\n",
      " |-- quantity: string (nullable = true)\n",
      " |-- packaging: string (nullable = true)\n",
      " |-- brands: string (nullable = true)\n",
      " |-- categories_en: string (nullable = true)\n",
      " |-- labels_en: string (nullable = true)\n",
      " |-- countries_en: string (nullable = true)\n",
      " |-- allergens_en: string (nullable = true)\n",
      " |-- traces_en: string (nullable = true)\n",
      " |-- serving_size: string (nullable = true)\n",
      " |-- additives_n: string (nullable = true)\n",
      " |-- additives_en: string (nullable = true)\n",
      " |-- energy_100g: string (nullable = true)\n",
      " |-- fat_100g: string (nullable = true)\n",
      " |-- saturated-fat_100g: string (nullable = true)\n",
      " |-- butyric-acid_100g: string (nullable = true)\n",
      " |-- caproic-acid_100g: string (nullable = true)\n",
      " |-- caprylic-acid_100g: string (nullable = true)\n",
      " |-- capric-acid_100g: string (nullable = true)\n",
      " |-- lauric-acid_100g: string (nullable = true)\n",
      " |-- myristic-acid_100g: string (nullable = true)\n",
      " |-- stearic-acid_100g: string (nullable = true)\n",
      " |-- arachidic-acid_100g: string (nullable = true)\n",
      " |-- behenic-acid_100g: string (nullable = true)\n",
      " |-- lignoceric-acid_100g: string (nullable = true)\n",
      " |-- cerotic-acid_100g: string (nullable = true)\n",
      " |-- montanic-acid_100g: string (nullable = true)\n",
      " |-- melissic-acid_100g: string (nullable = true)\n",
      " |-- monounsaturated-fat_100g: string (nullable = true)\n",
      " |-- polyunsaturated-fat_100g: string (nullable = true)\n",
      " |-- omega-3-fat_100g: string (nullable = true)\n",
      " |-- alpha-linolenic-acid_100g: string (nullable = true)\n",
      " |-- eicosapentaenoic-acid_100g: string (nullable = true)\n",
      " |-- docosahexaenoic-acid_100g: string (nullable = true)\n",
      " |-- omega-6-fat_100g: string (nullable = true)\n",
      " |-- linoleic-acid_100g: string (nullable = true)\n",
      " |-- arachidonic-acid_100g: string (nullable = true)\n",
      " |-- gamma-linolenic-acid_100g: string (nullable = true)\n",
      " |-- dihomo-gamma-linolenic-acid_100g: string (nullable = true)\n",
      " |-- omega-9-fat_100g: string (nullable = true)\n",
      " |-- oleic-acid_100g: string (nullable = true)\n",
      " |-- elaidic-acid_100g: string (nullable = true)\n",
      " |-- gondoic-acid_100g: string (nullable = true)\n",
      " |-- mead-acid_100g: string (nullable = true)\n",
      " |-- erucic-acid_100g: string (nullable = true)\n",
      " |-- nervonic-acid_100g: string (nullable = true)\n",
      " |-- trans-fat_100g: string (nullable = true)\n",
      " |-- cholesterol_100g: string (nullable = true)\n",
      " |-- carbohydrates_100g: string (nullable = true)\n",
      " |-- sugars_100g: string (nullable = true)\n",
      " |-- sucrose_100g: string (nullable = true)\n",
      " |-- glucose_100g: string (nullable = true)\n",
      " |-- fructose_100g: string (nullable = true)\n",
      " |-- lactose_100g: string (nullable = true)\n",
      " |-- maltose_100g: string (nullable = true)\n",
      " |-- maltodextrins_100g: string (nullable = true)\n",
      " |-- starch_100g: string (nullable = true)\n",
      " |-- polyols_100g: string (nullable = true)\n",
      " |-- fiber_100g: string (nullable = true)\n",
      " |-- proteins_100g: string (nullable = true)\n",
      " |-- casein_100g: string (nullable = true)\n",
      " |-- serum-proteins_100g: string (nullable = true)\n",
      " |-- nucleotides_100g: string (nullable = true)\n",
      " |-- salt_100g: string (nullable = true)\n",
      " |-- sodium_100g: string (nullable = true)\n",
      " |-- alcohol_100g: string (nullable = true)\n",
      " |-- vitamin-a_100g: string (nullable = true)\n",
      " |-- beta-carotene_100g: string (nullable = true)\n",
      " |-- vitamin-d_100g: string (nullable = true)\n",
      " |-- vitamin-e_100g: string (nullable = true)\n",
      " |-- vitamin-k_100g: string (nullable = true)\n",
      " |-- vitamin-c_100g: string (nullable = true)\n",
      " |-- vitamin-b1_100g: string (nullable = true)\n",
      " |-- vitamin-b2_100g: string (nullable = true)\n",
      " |-- vitamin-pp_100g: string (nullable = true)\n",
      " |-- vitamin-b6_100g: string (nullable = true)\n",
      " |-- vitamin-b9_100g: string (nullable = true)\n",
      " |-- folates_100g: string (nullable = true)\n",
      " |-- vitamin-b12_100g: string (nullable = true)\n",
      " |-- biotin_100g: string (nullable = true)\n",
      " |-- pantothenic-acid_100g: string (nullable = true)\n",
      " |-- silica_100g: string (nullable = true)\n",
      " |-- bicarbonate_100g: string (nullable = true)\n",
      " |-- potassium_100g: string (nullable = true)\n",
      " |-- chloride_100g: string (nullable = true)\n",
      " |-- calcium_100g: string (nullable = true)\n",
      " |-- phosphorus_100g: string (nullable = true)\n",
      " |-- iron_100g: string (nullable = true)\n",
      " |-- magnesium_100g: string (nullable = true)\n",
      " |-- zinc_100g: string (nullable = true)\n",
      " |-- copper_100g: string (nullable = true)\n",
      " |-- manganese_100g: string (nullable = true)\n",
      " |-- fluoride_100g: string (nullable = true)\n",
      " |-- selenium_100g: string (nullable = true)\n",
      " |-- chromium_100g: string (nullable = true)\n",
      " |-- molybdenum_100g: string (nullable = true)\n",
      " |-- iodine_100g: string (nullable = true)\n",
      " |-- caffeine_100g: string (nullable = true)\n",
      " |-- taurine_100g: string (nullable = true)\n",
      " |-- ph_100g: string (nullable = true)\n",
      " |-- fruits-vegetables-nuts_100g: string (nullable = true)\n",
      " |-- fruits-vegetables-nuts-estimate_100g: string (nullable = true)\n",
      " |-- collagen-meat-protein-ratio_100g: string (nullable = true)\n",
      " |-- cocoa_100g: string (nullable = true)\n",
      " |-- chlorophyl_100g: string (nullable = true)\n",
      " |-- carbon-footprint_100g: string (nullable = true)\n",
      " |-- nutrition-score-fr_100g: string (nullable = true)\n",
      " |-- nutrition-score-uk_100g: string (nullable = true)\n",
      " |-- glycemic-index_100g: string (nullable = true)\n",
      " |-- water-hardness_100g: string (nullable = true)\n",
      "\n"
     ]
    }
   ],
   "source": [
    "# Dropping a total of 48 columns: these features are either redundant or irrelevant to our analysis \n",
    "# df = df.drop(*column_list)\n",
    "\n",
    "\n",
    "# Displaying updated schema\n",
    "df.printSchema()"
   ]
  },
  {
   "cell_type": "code",
   "execution_count": 8,
   "metadata": {
    "tags": []
   },
   "outputs": [],
   "source": [
    "# Import functions \n",
    "# NOTE: originally contained only specific ones, but as out pool expanded, chose to add all\n",
    "from pyspark.sql.functions import *"
   ]
  },
  {
   "cell_type": "code",
   "execution_count": 9,
   "metadata": {
    "tags": []
   },
   "outputs": [
    {
     "name": "stderr",
     "output_type": "stream",
     "text": [
      "23/06/11 11:35:52 WARN GarbageCollectionMetrics: To enable non-built-in garbage collector(s) List(G1 Concurrent GC), users should configure it(them) to spark.eventLog.gcMetrics.youngGenerationGarbageCollectors or spark.eventLog.gcMetrics.oldGenerationGarbageCollectors\n",
      "                                                                                \r"
     ]
    },
    {
     "data": {
      "text/plain": [
       "1486296"
      ]
     },
     "execution_count": 9,
     "metadata": {},
     "output_type": "execute_result"
    }
   ],
   "source": [
    "# Determine number of rows where both ingredients_text and categories_en are null -> 55558 records, %15.6 of the dataset\n",
    "df.filter(isnull(\"ingredients_text\") & isnull(\"categories_en\") | col(\"ingredients_text\").isNull() & col(\"categories_en\").isNull()).count()"
   ]
  },
  {
   "cell_type": "code",
   "execution_count": 10,
   "metadata": {
    "tags": []
   },
   "outputs": [
    {
     "name": "stderr",
     "output_type": "stream",
     "text": [
      "                                                                                \r"
     ]
    },
    {
     "data": {
      "text/plain": [
       "1322713"
      ]
     },
     "execution_count": 10,
     "metadata": {},
     "output_type": "execute_result"
    }
   ],
   "source": [
    "# Note that since these records do not provide sufficient data on the product, we will have to drop them\n",
    "df = df.filter(col(\"ingredients_text\").isNotNull() | col(\"categories_en\").isNotNull())\n",
    "df.count()      # total numbers of records currently = 300469"
   ]
  },
  {
   "cell_type": "code",
   "execution_count": 11,
   "metadata": {
    "tags": []
   },
   "outputs": [
    {
     "name": "stderr",
     "output_type": "stream",
     "text": [
      "23/06/11 11:36:06 WARN package: Truncated the string representation of a plan since it was too large. This behavior can be adjusted by setting 'spark.sql.debug.maxToStringFields'.\n",
      "[Stage 10:======================================================> (58 + 2) / 60]\r"
     ]
    },
    {
     "name": "stdout",
     "output_type": "stream",
     "text": [
      "+----------------------+------------+--------+---------+------+-------------+---------+------------+------------+---------+------------+-----------+------------+-----------+--------+------------------+-----------------+-----------------+------------------+----------------+----------------+------------------+-----------------+-------------------+-----------------+--------------------+-----------------+------------------+------------------+------------------------+------------------------+----------------+-------------------------+--------------------------+-------------------------+----------------+------------------+---------------------+-------------------------+--------------------------------+----------------+---------------+-----------------+-----------------+--------------+----------------+------------------+--------------+----------------+------------------+-----------+------------+------------+-------------+------------+------------+------------------+-----------+------------+----------+-------------+-----------+-------------------+----------------+---------+-----------+------------+--------------+------------------+--------------+--------------+--------------+--------------+---------------+---------------+---------------+---------------+---------------+------------+----------------+-----------+---------------------+-----------+----------------+--------------+-------------+------------+---------------+---------+--------------+---------+-----------+--------------+-------------+-------------+-------------+---------------+-----------+-------------+------------+-------+---------------------------+------------------------------------+--------------------------------+----------+---------------+---------------------+-----------------------+-----------------------+-------------------+-------------------+\n",
      "|last_modified_datetime|product_name|quantity|packaging|brands|categories_en|labels_en|countries_en|allergens_en|traces_en|serving_size|additives_n|additives_en|energy_100g|fat_100g|saturated-fat_100g|butyric-acid_100g|caproic-acid_100g|caprylic-acid_100g|capric-acid_100g|lauric-acid_100g|myristic-acid_100g|stearic-acid_100g|arachidic-acid_100g|behenic-acid_100g|lignoceric-acid_100g|cerotic-acid_100g|montanic-acid_100g|melissic-acid_100g|monounsaturated-fat_100g|polyunsaturated-fat_100g|omega-3-fat_100g|alpha-linolenic-acid_100g|eicosapentaenoic-acid_100g|docosahexaenoic-acid_100g|omega-6-fat_100g|linoleic-acid_100g|arachidonic-acid_100g|gamma-linolenic-acid_100g|dihomo-gamma-linolenic-acid_100g|omega-9-fat_100g|oleic-acid_100g|elaidic-acid_100g|gondoic-acid_100g|mead-acid_100g|erucic-acid_100g|nervonic-acid_100g|trans-fat_100g|cholesterol_100g|carbohydrates_100g|sugars_100g|sucrose_100g|glucose_100g|fructose_100g|lactose_100g|maltose_100g|maltodextrins_100g|starch_100g|polyols_100g|fiber_100g|proteins_100g|casein_100g|serum-proteins_100g|nucleotides_100g|salt_100g|sodium_100g|alcohol_100g|vitamin-a_100g|beta-carotene_100g|vitamin-d_100g|vitamin-e_100g|vitamin-k_100g|vitamin-c_100g|vitamin-b1_100g|vitamin-b2_100g|vitamin-pp_100g|vitamin-b6_100g|vitamin-b9_100g|folates_100g|vitamin-b12_100g|biotin_100g|pantothenic-acid_100g|silica_100g|bicarbonate_100g|potassium_100g|chloride_100g|calcium_100g|phosphorus_100g|iron_100g|magnesium_100g|zinc_100g|copper_100g|manganese_100g|fluoride_100g|selenium_100g|chromium_100g|molybdenum_100g|iodine_100g|caffeine_100g|taurine_100g|ph_100g|fruits-vegetables-nuts_100g|fruits-vegetables-nuts-estimate_100g|collagen-meat-protein-ratio_100g|cocoa_100g|chlorophyl_100g|carbon-footprint_100g|nutrition-score-fr_100g|nutrition-score-uk_100g|glycemic-index_100g|water-hardness_100g|\n",
      "+----------------------+------------+--------+---------+------+-------------+---------+------------+------------+---------+------------+-----------+------------+-----------+--------+------------------+-----------------+-----------------+------------------+----------------+----------------+------------------+-----------------+-------------------+-----------------+--------------------+-----------------+------------------+------------------+------------------------+------------------------+----------------+-------------------------+--------------------------+-------------------------+----------------+------------------+---------------------+-------------------------+--------------------------------+----------------+---------------+-----------------+-----------------+--------------+----------------+------------------+--------------+----------------+------------------+-----------+------------+------------+-------------+------------+------------+------------------+-----------+------------+----------+-------------+-----------+-------------------+----------------+---------+-----------+------------+--------------+------------------+--------------+--------------+--------------+--------------+---------------+---------------+---------------+---------------+---------------+------------+----------------+-----------+---------------------+-----------+----------------+--------------+-------------+------------+---------------+---------+--------------+---------+-----------+--------------+-------------+-------------+-------------+---------------+-----------+-------------+------------+-------+---------------------------+------------------------------------+--------------------------------+----------+---------------+---------------------+-----------------------+-----------------------+-------------------+-------------------+\n",
      "|                   0.0|        0.01|     0.6|     0.74|  0.29|          0.1|     0.66|         0.0|         1.0|     0.88|        0.62|       0.38|        0.64|       0.15|    0.15|              0.18|              1.0|              1.0|               1.0|             1.0|             1.0|               1.0|              1.0|                1.0|              1.0|                 1.0|              1.0|               1.0|               1.0|                    0.96|                    0.96|             1.0|                      1.0|                       1.0|                      1.0|             1.0|               1.0|                  1.0|                      1.0|                             1.0|             1.0|            1.0|              1.0|              1.0|           1.0|             1.0|               1.0|           0.8|            0.79|              0.15|       0.16|         1.0|         1.0|          1.0|         1.0|         1.0|               1.0|        1.0|         1.0|      0.55|         0.15|        1.0|                1.0|             1.0|     0.19|       0.19|        0.98|          0.84|               1.0|          0.99|           1.0|           1.0|          0.83|           0.98|           0.98|           0.98|           0.99|           0.99|        0.99|            0.99|        1.0|                 0.99|        1.0|             1.0|          0.93|          1.0|        0.79|           0.99|      0.8|          0.99|     0.99|        1.0|           1.0|          1.0|          1.0|          1.0|            1.0|        1.0|          1.0|         1.0|    1.0|                       0.99|                                0.99|                             1.0|      0.99|            1.0|                  1.0|                   0.31|                    1.0|                1.0|                1.0|\n",
      "+----------------------+------------+--------+---------+------+-------------+---------+------------+------------+---------+------------+-----------+------------+-----------+--------+------------------+-----------------+-----------------+------------------+----------------+----------------+------------------+-----------------+-------------------+-----------------+--------------------+-----------------+------------------+------------------+------------------------+------------------------+----------------+-------------------------+--------------------------+-------------------------+----------------+------------------+---------------------+-------------------------+--------------------------------+----------------+---------------+-----------------+-----------------+--------------+----------------+------------------+--------------+----------------+------------------+-----------+------------+------------+-------------+------------+------------+------------------+-----------+------------+----------+-------------+-----------+-------------------+----------------+---------+-----------+------------+--------------+------------------+--------------+--------------+--------------+--------------+---------------+---------------+---------------+---------------+---------------+------------+----------------+-----------+---------------------+-----------+----------------+--------------+-------------+------------+---------------+---------+--------------+---------+-----------+--------------+-------------+-------------+-------------+---------------+-----------+-------------+------------+-------+---------------------------+------------------------------------+--------------------------------+----------+---------------+---------------------+-----------------------+-----------------------+-------------------+-------------------+\n",
      "\n"
     ]
    },
    {
     "name": "stderr",
     "output_type": "stream",
     "text": [
      "                                                                                \r"
     ]
    }
   ],
   "source": [
    "# Let's determine percentage of missing values for remaining columns\n",
    "nan_percent = df.select([(count(when(isnan(c) | col(c).isNull(), c))/count(lit(1))).alias(c) for c in df.columns])\n",
    "\n",
    "# Round to two decimal places for convenience\n",
    "nan_percent = nan_percent.select(*[round(c, 2).alias(c) for c in nan_percent.columns])\n",
    "\n",
    "nan_percent.show()\n",
    "\n",
    "# 25-30% of null values are allowed per dimensionality reduction rule. \n",
    "# we might consider not dropping columns with _100g label considering they are not 100% empty \n",
    "# as it may provide significant insights "
   ]
  },
  {
   "cell_type": "code",
   "execution_count": 12,
   "metadata": {
    "tags": []
   },
   "outputs": [
    {
     "name": "stderr",
     "output_type": "stream",
     "text": [
      "                                                                                \r"
     ]
    }
   ],
   "source": [
    "# Since we are dealing with a large number of columns, let's sort them based on NAN percentage \n",
    "\n",
    "# Convert PySpark DataFrame to Pandas DataFrame\n",
    "pandas_df = nan_percent.toPandas()\n",
    "\n",
    "row_index = 0  \n",
    "\n",
    "# Get a sorted list of column names based on the row's values and rearrange them accordingly \n",
    "sorted_cols = pandas_df.iloc[row_index, :].sort_values(ascending=False).index.tolist()\n",
    "pandas_df = pandas_df[sorted_cols]\n",
    "\n",
    "# save results to a .csv file for further inspection \n",
    "pandas_df.to_csv(\"nan.csv\")"
   ]
  },
  {
   "cell_type": "code",
   "execution_count": 13,
   "metadata": {
    "tags": []
   },
   "outputs": [],
   "source": [
    "# Looks like we can safely remove columns where all rows are null\n",
    "\n",
    "# Get columns from pandas_df where value = 1\n",
    "pandas_df = pandas_df.loc[:, (pandas_df == 1).any()]\n",
    "\n",
    "# drop these columns from our dataframe\n",
    "df = df.drop(*pandas_df.columns)\n",
    "\n",
    "len(df.columns)                                      # we are down to 51 feature \n",
    "\n",
    "# Based on the data provided in nan.csv, looks like three more columns - traces_en, labels_en, and packaging have NAN values around 0.7. \n",
    "# Since they are not critical to the analysis, let's remove them (leaves us with 47 features)\n",
    "\n",
    "df = df.drop('quantity','traces_en', 'labels_en', 'packaging')"
   ]
  },
  {
   "cell_type": "code",
   "execution_count": 14,
   "metadata": {
    "tags": []
   },
   "outputs": [
    {
     "name": "stderr",
     "output_type": "stream",
     "text": [
      "[Stage 16:=====================================================>  (57 + 3) / 60]\r"
     ]
    },
    {
     "name": "stdout",
     "output_type": "stream",
     "text": [
      "+-------------------+\n",
      "|Null Nutri-score FR|\n",
      "+-------------------+\n",
      "|             413902|\n",
      "+-------------------+\n",
      "\n"
     ]
    },
    {
     "name": "stderr",
     "output_type": "stream",
     "text": [
      "                                                                                \r"
     ]
    }
   ],
   "source": [
    "# Since nutri-score will be our primary column for the XGBoost, let's determine how many nulls it has \n",
    "clm1 = 'nutrition-score-fr_100g'\n",
    "df.select(count(when(isnull(clm1) | col(clm1).isNull(), clm1)).alias(\"Null Nutri-score FR\")).show()"
   ]
  },
  {
   "cell_type": "code",
   "execution_count": 15,
   "metadata": {
    "tags": []
   },
   "outputs": [
    {
     "name": "stderr",
     "output_type": "stream",
     "text": [
      "[Stage 22:=====================================================>  (57 + 3) / 60]\r"
     ]
    },
    {
     "name": "stdout",
     "output_type": "stream",
     "text": [
      "++\n",
      "||\n",
      "++\n",
      "||\n",
      "||\n",
      "||\n",
      "||\n",
      "||\n",
      "||\n",
      "||\n",
      "||\n",
      "||\n",
      "||\n",
      "||\n",
      "||\n",
      "||\n",
      "||\n",
      "||\n",
      "||\n",
      "||\n",
      "||\n",
      "||\n",
      "||\n",
      "++\n",
      "only showing top 20 rows\n",
      "\n"
     ]
    },
    {
     "name": "stderr",
     "output_type": "stream",
     "text": [
      "                                                                                \r"
     ]
    }
   ],
   "source": [
    "# Since we also have 'nutrition-score-uk_100g', let's see if there are any records where UK score is null but France score is not\n",
    "df.filter(col(clm1).isNull() & col(\"nutrition-score-uk_100g\").isNotNull()).count()         # 0 \n",
    "df.filter(col(clm1) != col(\"nutrition-score-uk_100g\")).count()                             # 13063 total\n",
    "\n",
    "# Different scores for France and UK are understandable since the former uses the original five-color system and the UK uses the Traffic Light system (only 3 colors)\n",
    "# For the purpose of this research, we will drop the UK score column and rename clm1 to \"nutri_score\"\n",
    "df = df.drop(\"nutrition-score-uk_100g\")\n",
    "df = df.withColumnRenamed(clm1, \"nutri_score\")\n",
    "df.select().show()                                         # now we are down to 46 features \n"
   ]
  },
  {
   "cell_type": "code",
   "execution_count": 16,
   "metadata": {
    "tags": []
   },
   "outputs": [
    {
     "name": "stdout",
     "output_type": "stream",
     "text": [
      "root\n",
      " |-- last_modified_datetime: string (nullable = true)\n",
      " |-- product_name: string (nullable = true)\n",
      " |-- brands: string (nullable = true)\n",
      " |-- categories_en: string (nullable = true)\n",
      " |-- countries_en: string (nullable = true)\n",
      " |-- serving_size: string (nullable = true)\n",
      " |-- additives_n: string (nullable = true)\n",
      " |-- additives_en: string (nullable = true)\n",
      " |-- energy_100g: string (nullable = true)\n",
      " |-- fat_100g: string (nullable = true)\n",
      " |-- saturated-fat_100g: string (nullable = true)\n",
      " |-- monounsaturated-fat_100g: string (nullable = true)\n",
      " |-- polyunsaturated-fat_100g: string (nullable = true)\n",
      " |-- trans-fat_100g: string (nullable = true)\n",
      " |-- cholesterol_100g: string (nullable = true)\n",
      " |-- carbohydrates_100g: string (nullable = true)\n",
      " |-- sugars_100g: string (nullable = true)\n",
      " |-- fiber_100g: string (nullable = true)\n",
      " |-- proteins_100g: string (nullable = true)\n",
      " |-- salt_100g: string (nullable = true)\n",
      " |-- sodium_100g: string (nullable = true)\n",
      " |-- alcohol_100g: string (nullable = true)\n",
      " |-- vitamin-a_100g: string (nullable = true)\n",
      " |-- vitamin-d_100g: string (nullable = true)\n",
      " |-- vitamin-c_100g: string (nullable = true)\n",
      " |-- vitamin-b1_100g: string (nullable = true)\n",
      " |-- vitamin-b2_100g: string (nullable = true)\n",
      " |-- vitamin-pp_100g: string (nullable = true)\n",
      " |-- vitamin-b6_100g: string (nullable = true)\n",
      " |-- vitamin-b9_100g: string (nullable = true)\n",
      " |-- folates_100g: string (nullable = true)\n",
      " |-- vitamin-b12_100g: string (nullable = true)\n",
      " |-- pantothenic-acid_100g: string (nullable = true)\n",
      " |-- potassium_100g: string (nullable = true)\n",
      " |-- calcium_100g: string (nullable = true)\n",
      " |-- phosphorus_100g: string (nullable = true)\n",
      " |-- iron_100g: string (nullable = true)\n",
      " |-- magnesium_100g: string (nullable = true)\n",
      " |-- zinc_100g: string (nullable = true)\n",
      " |-- fruits-vegetables-nuts_100g: string (nullable = true)\n",
      " |-- fruits-vegetables-nuts-estimate_100g: string (nullable = true)\n",
      " |-- cocoa_100g: string (nullable = true)\n",
      " |-- nutri_score: string (nullable = true)\n",
      "\n"
     ]
    }
   ],
   "source": [
    "# Let's take a look at an updated schema: as shown, all our columns contain String datatypes \n",
    "df.printSchema()"
   ]
  },
  {
   "cell_type": "code",
   "execution_count": 17,
   "metadata": {
    "tags": []
   },
   "outputs": [],
   "source": [
    "# Now let's adjust datatypes for some of these columns \n",
    "\n",
    "# For all columns ending in _100g we will change the datatype to double, round to 2 decimals, and fill NA vals\n",
    "double_cast = df.select(df.colRegex(\"`.+100g$`\")).columns \n",
    "for col_name in double_cast:\n",
    "    df = df.withColumn(col_name, round(when(col(col_name).isNull(), 0).otherwise(col(col_name).cast(\"double\")), 2))"
   ]
  },
  {
   "cell_type": "code",
   "execution_count": 18,
   "metadata": {
    "tags": []
   },
   "outputs": [],
   "source": [
    "# For all columns ending in _n changing the datatype to int and fill NA vals with 0\n",
    "int_cast = df.select(df.colRegex(\"`.*_n$`\")).columns\n",
    "for col_name in int_cast:\n",
    "    df = df.withColumn(col_name, when(col(col_name).isNull(), 0).otherwise(col(col_name).cast(\"int\")))\n"
   ]
  },
  {
   "cell_type": "code",
   "execution_count": 19,
   "metadata": {
    "tags": []
   },
   "outputs": [
    {
     "name": "stdout",
     "output_type": "stream",
     "text": [
      "root\n",
      " |-- year: integer (nullable = true)\n",
      " |-- product_name: string (nullable = true)\n",
      " |-- brands: string (nullable = true)\n",
      " |-- categories_en: string (nullable = true)\n",
      " |-- countries_en: string (nullable = true)\n",
      " |-- serving_size: string (nullable = true)\n",
      " |-- additives_n: integer (nullable = true)\n",
      " |-- additives_en: string (nullable = true)\n",
      " |-- energy_100g: double (nullable = true)\n",
      " |-- fat_100g: double (nullable = true)\n",
      " |-- saturated-fat_100g: double (nullable = true)\n",
      " |-- monounsaturated-fat_100g: double (nullable = true)\n",
      " |-- polyunsaturated-fat_100g: double (nullable = true)\n",
      " |-- trans-fat_100g: double (nullable = true)\n",
      " |-- cholesterol_100g: double (nullable = true)\n",
      " |-- carbohydrates_100g: double (nullable = true)\n",
      " |-- sugars_100g: double (nullable = true)\n",
      " |-- fiber_100g: double (nullable = true)\n",
      " |-- proteins_100g: double (nullable = true)\n",
      " |-- salt_100g: double (nullable = true)\n",
      " |-- sodium_100g: double (nullable = true)\n",
      " |-- alcohol_100g: double (nullable = true)\n",
      " |-- vitamin-a_100g: double (nullable = true)\n",
      " |-- vitamin-d_100g: double (nullable = true)\n",
      " |-- vitamin-c_100g: double (nullable = true)\n",
      " |-- vitamin-b1_100g: double (nullable = true)\n",
      " |-- vitamin-b2_100g: double (nullable = true)\n",
      " |-- vitamin-pp_100g: double (nullable = true)\n",
      " |-- vitamin-b6_100g: double (nullable = true)\n",
      " |-- vitamin-b9_100g: double (nullable = true)\n",
      " |-- folates_100g: double (nullable = true)\n",
      " |-- vitamin-b12_100g: double (nullable = true)\n",
      " |-- pantothenic-acid_100g: double (nullable = true)\n",
      " |-- potassium_100g: double (nullable = true)\n",
      " |-- calcium_100g: double (nullable = true)\n",
      " |-- phosphorus_100g: double (nullable = true)\n",
      " |-- iron_100g: double (nullable = true)\n",
      " |-- magnesium_100g: double (nullable = true)\n",
      " |-- zinc_100g: double (nullable = true)\n",
      " |-- fruits-vegetables-nuts_100g: double (nullable = true)\n",
      " |-- fruits-vegetables-nuts-estimate_100g: double (nullable = true)\n",
      " |-- cocoa_100g: double (nullable = true)\n",
      " |-- nutri_score: string (nullable = true)\n",
      "\n"
     ]
    }
   ],
   "source": [
    "# Change last_modified_datetime to timestamp datatype and extract year from the column\n",
    "df = df.withColumn(\"last_modified_datetime\", year(to_timestamp(col(\"last_modified_datetime\"), \"yyyy-MM-dd'T'HH:mm:ss'Z'\")))\n",
    "df = df.withColumnRenamed(\"last_modified_datetime\", \"year\")\n",
    "df.printSchema()"
   ]
  },
  {
   "cell_type": "code",
   "execution_count": 20,
   "metadata": {
    "tags": []
   },
   "outputs": [],
   "source": [
    "# Drop rows where 'product_name' is null\n",
    "df = df.na.drop(subset = ['product_name'])"
   ]
  },
  {
   "cell_type": "code",
   "execution_count": 21,
   "metadata": {
    "tags": []
   },
   "outputs": [
    {
     "name": "stdout",
     "output_type": "stream",
     "text": [
      "+----+--------------------+--------------------+--------------------+-------------+---------------+-----------+--------------------+-----------+--------+------------------+------------------------+------------------------+--------------+----------------+------------------+-----------+----------+-------------+---------+-----------+------------+--------------+--------------+--------------+---------------+---------------+---------------+---------------+---------------+------------+----------------+---------------------+--------------+------------+---------------+---------+--------------+---------+---------------------------+------------------------------------+----------+-----------+\n",
      "|year|        product_name|              brands|       categories_en| countries_en|   serving_size|additives_n|        additives_en|energy_100g|fat_100g|saturated-fat_100g|monounsaturated-fat_100g|polyunsaturated-fat_100g|trans-fat_100g|cholesterol_100g|carbohydrates_100g|sugars_100g|fiber_100g|proteins_100g|salt_100g|sodium_100g|alcohol_100g|vitamin-a_100g|vitamin-d_100g|vitamin-c_100g|vitamin-b1_100g|vitamin-b2_100g|vitamin-pp_100g|vitamin-b6_100g|vitamin-b9_100g|folates_100g|vitamin-b12_100g|pantothenic-acid_100g|potassium_100g|calcium_100g|phosphorus_100g|iron_100g|magnesium_100g|zinc_100g|fruits-vegetables-nuts_100g|fruits-vegetables-nuts-estimate_100g|cocoa_100g|nutri_score|\n",
      "+----+--------------------+--------------------+--------------------+-------------+---------------+-----------+--------------------+-----------+--------+------------------+------------------------+------------------------+--------------+----------------+------------------+-----------+----------+-------------+---------+-----------+------------+--------------+--------------+--------------+---------------+---------------+---------------+---------------+---------------+------------+----------------+---------------------+--------------+------------+---------------+---------+--------------+---------+---------------------------+------------------------------------+----------+-----------+\n",
      "|2022|             L.casei|       not specified|       not specified|        Spain|  not specified|          0|       not specified|        0.0|     1.4|               0.9|                     0.0|                     0.0|           0.0|             0.0|               9.8|        9.8|       0.0|          2.7|      0.1|       0.04|         0.0|           0.0|           0.0|           0.0|            0.0|            0.0|            0.0|            0.0|            0.0|         0.0|             0.0|                  0.0|           0.0|         0.0|            0.0|      0.0|           0.0|      0.0|                        0.0|                                 0.0|       0.0|       null|\n",
      "|2022|                Skyr|              Danone|Dairies,Fermented...|       France|  not specified|          0|       not specified|      238.0|     0.2|               0.1|                     0.0|                     0.0|           0.0|             0.0|               3.9|        3.9|       0.0|         10.0|     0.09|       0.04|         0.0|           0.0|           0.0|           0.0|            0.0|            0.0|            0.0|            0.0|            0.0|         0.0|             0.0|                  0.0|           0.0|         0.0|            0.0|      0.0|           0.0|      0.0|                        0.0|                                 0.0|       0.0|         -5|\n",
      "|2021|           hyde icon|       not specified|       not specified|United States|  not specified|          5|E296 - Malic acid...|        0.0|     0.0|               0.0|                     0.0|                     0.0|           0.0|             0.0|               0.0|        0.0|       0.0|          0.0|      0.0|        0.0|         0.0|           0.0|           0.0|           0.0|            0.0|            0.0|            0.0|            0.0|            0.0|         0.0|             0.0|                  0.0|           0.0|         0.0|            0.0|      0.0|           0.0|      0.0|                        0.0|                                 0.0|       0.0|       null|\n",
      "|2015| moutarde au moût...|       courte paille|Condiments,Sauces...|       France|  not specified|          0|       not specified|      936.0|     8.2|               2.2|                     0.0|                     0.0|           0.0|             0.0|              29.0|       22.0|       0.0|          5.1|      4.6|       1.84|         0.0|           0.0|           0.0|           0.0|            0.0|            0.0|            0.0|            0.0|            0.0|         0.0|             0.0|                  0.0|           0.0|         0.0|            0.0|      0.0|           0.0|      0.0|                        0.0|                                 0.0|       0.0|         18|\n",
      "|2022|    Pur jus de pomme|       not specified|Plant-based foods...|       France|  not specified|          0|       not specified|      264.0|     0.0|               0.0|                     0.0|                     0.0|           0.0|             0.0|              15.5|       15.5|       0.0|          0.2|      0.0|        0.0|         0.0|           0.0|           0.0|           0.0|            0.0|            0.0|            0.0|            0.0|            0.0|         0.0|             0.0|                  0.0|           0.0|         0.0|            0.0|      0.0|           0.0|      0.0|                        0.0|                                 0.0|       0.0|          9|\n",
      "|2021|       Pate d'amande|       not specified|Snacks,Sweet snac...|       France|  not specified|          0|       not specified|        0.0|     0.0|               0.0|                     0.0|                     0.0|           0.0|             0.0|               0.0|        0.0|       0.0|          0.0|      0.0|        0.0|         0.0|           0.0|           0.0|           0.0|            0.0|            0.0|            0.0|            0.0|            0.0|         0.0|             0.0|                  0.0|           0.0|         0.0|            0.0|      0.0|           0.0|      0.0|                        0.0|                                 0.0|       0.0|       null|\n",
      "|2019|Salade de carotte...|       not specified|Plant-based foods...|       France|  not specified|          0|       not specified|      134.0|     0.3|               0.1|                     0.0|                     0.0|           0.0|             0.0|               5.3|        3.9|       0.0|          0.9|     0.42|       0.17|         0.0|           0.0|           0.0|           0.0|            0.0|            0.0|            0.0|            0.0|            0.0|         0.0|             0.0|                  0.0|           0.0|         0.0|            0.0|      0.0|           0.0|      0.0|                        0.0|                                 0.0|       0.0|          1|\n",
      "|2018|Solène céréales p...|               CROUS|       not specified|       France|  not specified|          5|E150 - Caramel,E1...|      916.0|     5.9|               0.5|                     0.0|                     0.0|           0.0|             0.0|              30.3|        1.7|       2.8|          9.7|     0.46|       0.19|         0.0|           0.0|           0.0|           0.0|            0.0|            0.0|            0.0|            0.0|            0.0|         0.0|             0.0|                  0.0|           0.0|         0.0|            0.0|      0.0|           0.0|      0.0|                        0.0|                                 0.0|       0.0|       null|\n",
      "|2022|  Tarte noix de coco|  Crous Resto',Crous|Sweet pies,Pies,C...|       France|  not specified|          0|       not specified|     1594.0|    22.0|              15.5|                     0.0|                     0.0|           0.0|             0.0|              27.3|       21.9|       4.4|          4.6|      0.1|       0.04|         0.0|           0.0|           0.0|           0.0|            0.0|            0.0|            0.0|            0.0|            0.0|         0.0|             0.0|                  0.0|           0.0|         0.0|            0.0|      0.0|           0.0|      0.0|                        0.0|                                 0.0|       0.0|         14|\n",
      "|2017|Crème dessert cho...|Ferme De La Frémo...|       not specified|       France|  not specified|          1|         E406 - Agar|        0.0|     0.0|               0.0|                     0.0|                     0.0|           0.0|             0.0|               0.0|        0.0|       0.0|          0.0|      0.0|        0.0|         0.0|           0.0|           0.0|           0.0|            0.0|            0.0|            0.0|            0.0|            0.0|         0.0|             0.0|                  0.0|           0.0|         0.0|            0.0|      0.0|           0.0|      0.0|                        0.0|                                 0.0|       0.0|       null|\n",
      "|2018|    Compote de poire|               Crous|Plant-based foods...|       France|  not specified|          0|       not specified|      657.0|     0.0|               0.0|                     0.0|                     0.0|           0.0|             0.0|              36.0|       27.0|       3.6|          0.6|      0.0|        0.0|         0.0|           0.0|           0.0|           0.0|            0.0|            0.0|            0.0|            0.0|            0.0|         0.0|             0.0|                  0.0|           0.0|         0.0|            0.0|      0.0|           0.0|      0.0|                        0.0|                                 0.0|       0.0|         -2|\n",
      "|2019|Aiguillettes de p...|       not specified|Meats and their p...|       France|  not specified|          0|       not specified|        0.0|     0.0|               0.0|                     0.0|                     0.0|           0.0|             0.0|               0.0|        0.0|       0.0|          0.0|      0.0|        0.0|         0.0|           0.0|           0.0|           0.0|            0.0|            0.0|            0.0|            0.0|            0.0|         0.0|             0.0|                  0.0|           0.0|         0.0|            0.0|      0.0|           0.0|      0.0|                        0.0|                                 0.0|       0.0|       null|\n",
      "|2019|Salade de macedoi...|       not specified|Plant-based foods...|       France|        serving|          0|       not specified|      598.0|    12.7|               1.0|                     0.0|                     0.0|           0.0|             0.0|               3.9|        1.0|       0.0|          1.9|     0.27|       0.11|         0.0|           0.0|           0.0|           0.0|            0.0|            0.0|            0.0|            0.0|            0.0|         0.0|             0.0|                  0.0|           0.0|         0.0|            0.0|      0.0|           0.0|      0.0|                        0.0|                                 0.0|       0.0|          1|\n",
      "|2019|   Baguette Poitevin|         Crous resto|       not specified|       France|  not specified|          0|       not specified|      866.0|     6.7|               3.8|                     0.0|                     0.0|           0.0|             0.0|              27.5|        0.6|       1.7|          8.9|      0.4|       0.16|         0.0|           0.0|           0.0|           0.0|            0.0|            0.0|            0.0|            0.0|            0.0|         0.0|             0.0|                  0.0|           0.0|         0.0|            0.0|      0.0|           0.0|      0.0|                        0.0|                                 0.0|       0.0|       null|\n",
      "|2021|   Confiture de lait|       not specified|Breakfasts,Spread...|       France|  not specified|          0|       not specified|        0.0|     0.0|               0.0|                     0.0|                     0.0|           0.0|             0.0|               0.0|        0.0|       0.0|          0.0|      0.0|        0.0|         0.0|           0.0|           0.0|           0.0|            0.0|            0.0|            0.0|            0.0|            0.0|         0.0|             0.0|                  0.0|           0.0|         0.0|            0.0|      0.0|           0.0|      0.0|                        0.0|                                 0.0|       0.0|       null|\n",
      "|2018|      Suedois saumon|               Crous|       not specified|       France|  not specified|          2|E300 - Ascorbic a...|      720.0|     4.4|               1.2|                     0.0|                     0.0|           0.0|             0.0|              23.3|        4.6|       2.7|          8.4|     3.58|       1.43|         0.0|           0.0|           0.0|           0.0|            0.0|            0.0|            0.0|            0.0|            0.0|         0.0|             0.0|                  0.0|           0.0|         0.0|            0.0|      0.0|           0.0|      0.0|                        0.0|                                 0.0|       0.0|       null|\n",
      "|2023|Thé blanc de la R...|       not specified|Plant-based foods...|       France|  not specified|          0|       not specified|        0.0|     0.0|               0.0|                     0.0|                     0.0|           0.0|             0.0|               0.0|        0.0|       0.0|          0.0|      0.0|        0.0|         0.0|           0.0|           0.0|           0.0|            0.0|            0.0|            0.0|            0.0|            0.0|         0.0|             0.0|                  0.0|           0.0|         0.0|            0.0|      0.0|           0.0|      0.0|                        0.0|                                 0.0|       0.0|       null|\n",
      "|2018|Salade shaker tab...|               Crous|       not specified|       France|  not specified|          1|E202 - Potassium ...|      477.0|     8.1|               0.9|                     0.0|                     0.0|           0.0|             0.0|               5.7|        1.4|       1.7|          3.9|     0.31|       0.12|         0.0|           0.0|           0.0|           0.0|            0.0|            0.0|            0.0|            0.0|            0.0|         0.0|             0.0|                  0.0|           0.0|         0.0|            0.0|      0.0|           0.0|      0.0|                        0.0|                                 0.0|       0.0|       null|\n",
      "|2017|Banana Chips Swee...|       not specified|       not specified|United States|   28 g (1 ONZ)|          0|       not specified|     2243.0|   28.57|             28.57|                     0.0|                     0.0|           0.0|            0.02|             64.29|      14.29|       3.6|         3.57|      0.0|        0.0|         0.0|           0.0|           0.0|          0.02|            0.0|            0.0|            0.0|            0.0|            0.0|         0.0|             0.0|                  0.0|           0.0|         0.0|            0.0|      0.0|           0.0|      0.0|                        0.0|                                 0.0|       0.0|       null|\n",
      "|2017|             Peanuts|      Torn & Glasser|       not specified|United States|28 g (0.25 cup)|          2|E500 - Sodium car...|     1941.0|   17.86|               0.0|                     0.0|                     0.0|           0.0|             0.0|             60.71|      17.86|       7.1|        17.86|     0.64|       0.25|         0.0|           0.0|           0.0|           0.0|            0.0|            0.0|            0.0|            0.0|            0.0|         0.0|             0.0|                  0.0|           0.0|        0.07|            0.0|      0.0|           0.0|      0.0|                        0.0|                                 0.0|       0.0|       null|\n",
      "+----+--------------------+--------------------+--------------------+-------------+---------------+-----------+--------------------+-----------+--------+------------------+------------------------+------------------------+--------------+----------------+------------------+-----------+----------+-------------+---------+-----------+------------+--------------+--------------+--------------+---------------+---------------+---------------+---------------+---------------+------------+----------------+---------------------+--------------+------------+---------------+---------+--------------+---------+---------------------------+------------------------------------+----------+-----------+\n",
      "only showing top 20 rows\n",
      "\n"
     ]
    }
   ],
   "source": [
    "# For the remaining ones, we will use \"not specified\" since we are not casting any other datatypes to String\n",
    "for col_name in df.columns:\n",
    "    if col_name not in double_cast and col_name not in int_cast and col_name != \"year\" and col_name != \"nutri_score\":\n",
    "        df = df.withColumn(col_name, when(df[col_name].isNull(), \"not specified\").otherwise(df[col_name]))\n",
    "\n",
    "df.show()\n",
    "\n",
    "# Note that we are excluding two columns: \"year\" (to retain the established datatype) \n",
    "# and nutri_score since we would need it for model evaluation "
   ]
  },
  {
   "cell_type": "code",
   "execution_count": 22,
   "metadata": {
    "tags": []
   },
   "outputs": [
    {
     "name": "stderr",
     "output_type": "stream",
     "text": [
      "[Stage 27:=====================================================>  (57 + 3) / 60]\r"
     ]
    },
    {
     "name": "stdout",
     "output_type": "stream",
     "text": [
      "+----+------------+------+-------------+------------+------------+-----------+------------+-----------+--------+------------------+------------------------+------------------------+--------------+----------------+------------------+-----------+----------+-------------+---------+-----------+------------+--------------+--------------+--------------+---------------+---------------+---------------+---------------+---------------+------------+----------------+---------------------+--------------+------------+---------------+---------+--------------+---------+---------------------------+------------------------------------+----------+-----------+\n",
      "|year|product_name|brands|categories_en|countries_en|serving_size|additives_n|additives_en|energy_100g|fat_100g|saturated-fat_100g|monounsaturated-fat_100g|polyunsaturated-fat_100g|trans-fat_100g|cholesterol_100g|carbohydrates_100g|sugars_100g|fiber_100g|proteins_100g|salt_100g|sodium_100g|alcohol_100g|vitamin-a_100g|vitamin-d_100g|vitamin-c_100g|vitamin-b1_100g|vitamin-b2_100g|vitamin-pp_100g|vitamin-b6_100g|vitamin-b9_100g|folates_100g|vitamin-b12_100g|pantothenic-acid_100g|potassium_100g|calcium_100g|phosphorus_100g|iron_100g|magnesium_100g|zinc_100g|fruits-vegetables-nuts_100g|fruits-vegetables-nuts-estimate_100g|cocoa_100g|nutri_score|\n",
      "+----+------------+------+-------------+------------+------------+-----------+------------+-----------+--------+------------------+------------------------+------------------------+--------------+----------------+------------------+-----------+----------+-------------+---------+-----------+------------+--------------+--------------+--------------+---------------+---------------+---------------+---------------+---------------+------------+----------------+---------------------+--------------+------------+---------------+---------+--------------+---------+---------------------------+------------------------------------+----------+-----------+\n",
      "|   0|           6|     1|            0|           0|           0|          0|           0|          0|       0|                 0|                       0|                       0|             0|               0|                 0|          0|         0|            0|        0|          0|           0|             0|             0|             0|              0|              0|              0|              0|              0|           0|               0|                    0|             0|           0|              0|        0|             0|        0|                          0|                                   0|         0|     401713|\n",
      "+----+------------+------+-------------+------------+------------+-----------+------------+-----------+--------+------------------+------------------------+------------------------+--------------+----------------+------------------+-----------+----------+-------------+---------+-----------+------------+--------------+--------------+--------------+---------------+---------------+---------------+---------------+---------------+------------+----------------+---------------------+--------------+------------+---------------+---------+--------------+---------+---------------------------+------------------------------------+----------+-----------+\n",
      "\n"
     ]
    },
    {
     "name": "stderr",
     "output_type": "stream",
     "text": [
      "                                                                                \r"
     ]
    }
   ],
   "source": [
    "# Let's check if we have any other null values remaining \n",
    "df.select([count(when(isnan(c) | col(c).isNull(), c)).alias(c) for c in df.columns]).show()\n",
    "\n",
    "# We will drop NULLs for \"Year\" \n",
    "df = df.na.drop(subset=[\"year\"])"
   ]
  },
  {
   "cell_type": "code",
   "execution_count": 23,
   "metadata": {
    "tags": []
   },
   "outputs": [
    {
     "name": "stderr",
     "output_type": "stream",
     "text": [
      "[Stage 30:=====================================================>  (57 + 3) / 60]\r"
     ]
    },
    {
     "name": "stdout",
     "output_type": "stream",
     "text": [
      "+----+\n",
      "|year|\n",
      "+----+\n",
      "|2023|\n",
      "|2022|\n",
      "|2021|\n",
      "|2020|\n",
      "|2019|\n",
      "|2018|\n",
      "|2017|\n",
      "|2016|\n",
      "|2015|\n",
      "|2014|\n",
      "|2013|\n",
      "|2012|\n",
      "+----+\n",
      "\n"
     ]
    },
    {
     "name": "stderr",
     "output_type": "stream",
     "text": [
      "                                                                                \r"
     ]
    }
   ],
   "source": [
    "# Check years of edit starting with the most recent one\n",
    "df.select('year').distinct().sort(desc('year')).show()\n",
    "\n",
    "# NOTE: For future iterations of the project, look for more recent data!"
   ]
  },
  {
   "cell_type": "code",
   "execution_count": null,
   "metadata": {
    "tags": []
   },
   "outputs": [],
   "source": [
    "# Let's determine the distribution of null values in nutri_score column per country\n",
    "country_df = df.groupBy('countries_en').agg(count(when(isnull(\"nutri_score\") | col(\"nutri_score\").isNull(), \"nutri_score\")).alias(\"total null\")).orderBy(\"total null\", ascending = False)\n",
    "country_df.show(n = country_df.count())\n",
    "\n",
    "# Top 2 countries are US and France\n",
    "# The rest of the NULL values comprise less than 1% of total data"
   ]
  },
  {
   "cell_type": "code",
   "execution_count": 25,
   "metadata": {
    "tags": []
   },
   "outputs": [],
   "source": [
    "# Separate US null rows into a test dataset for subsequent XGBoost, \n",
    "# get rid of remaining nulls \n",
    "test_set = df.filter((col('countries_en') == 'United States') & (col('nutri_score').isNull()))\n",
    "train_set = df.subtract(test_set)\n",
    "train_set = train_set.dropna()"
   ]
  },
  {
   "cell_type": "code",
   "execution_count": 26,
   "metadata": {
    "tags": []
   },
   "outputs": [],
   "source": [
    "# For each nutri-score, rank from A to E \n",
    "# Note that drinks follow a different scale (only water can be ranked A!)\n",
    "train_set = train_set.withColumn(\"nutri_score\",\n",
    "    # note that we are matching beverages only at the beginning \n",
    "    # to avoid conflict with 'plant-based foods and beverages' which contains solid foods;\n",
    "    # milk can be matched at any position; making sure to set case-insensitive!                             \n",
    "    when(col('nutri_score').rlike('(?i)^beverages.*milk.*'),\n",
    "        when((train_set[\"nutri_score\"] <= 1), \"B\")\n",
    "        .when((train_set[\"nutri_score\"] >= 2) & (train_set[\"nutri_score\"] <= 5), \"C\")\n",
    "        .when((train_set[\"nutri_score\"] >= 6) & (train_set[\"nutri_score\"] <= 9), \"D\")\n",
    "        .when((train_set[\"nutri_score\"] >= 10) & (train_set[\"nutri_score\"] <= 40), \"D\")\n",
    "        .otherwise(\"E\"))\n",
    "    .otherwise(\n",
    "        when((train_set[\"nutri_score\"] >= -15) & (train_set[\"nutri_score\"] < -1), \"A\")\n",
    "        .when((train_set[\"nutri_score\"] >= 0) & (train_set[\"nutri_score\"] <= 2), \"B\")\n",
    "        .when((train_set[\"nutri_score\"] >= 3) & (train_set[\"nutri_score\"] <= 10), \"C\")\n",
    "        .when((train_set[\"nutri_score\"] >= 11) & (train_set[\"nutri_score\"] <= 18), \"D\")\n",
    "        .otherwise(\"E\")))\n",
    "\n",
    "train_set_orig = train_set"
   ]
  },
  {
   "cell_type": "code",
   "execution_count": 27,
   "metadata": {
    "tags": []
   },
   "outputs": [],
   "source": [
    "# ML Training using XGBoost\n",
    "\n",
    "# Installing required modules for performing XGBoost \n",
    "\n",
    "# import sys\n",
    "# !pip install xgboost\n",
    "# !pip install pyarrow\n",
    "from xgboost.spark import SparkXGBRegressor, SparkXGBClassifier"
   ]
  },
  {
   "cell_type": "code",
   "execution_count": 28,
   "metadata": {
    "tags": []
   },
   "outputs": [
    {
     "name": "stderr",
     "output_type": "stream",
     "text": [
      "                                                                                \r"
     ]
    },
    {
     "name": "stdout",
     "output_type": "stream",
     "text": [
      "+----+--------+---------+-----------+-----------+----------+--------------------+--------------------+-------------+-----------+-----------+\n",
      "|year|fat_100g|salt_100g|sodium_100g|sugars_100g|fiber_100g|        product_name|              brands| countries_en|nutri_score|nutri_label|\n",
      "+----+--------+---------+-----------+-----------+----------+--------------------+--------------------+-------------+-----------+-----------+\n",
      "|2022|     0.0|      0.0|        0.0|       93.3|       0.0|Bonbons acidulés ...|         Wonka,Nerds|       France|          D|          3|\n",
      "|2022|    23.0|      1.5|        0.6|        3.8|       0.0|Provola Typical C...|          Valkro srl|     Bulgaria|          D|          3|\n",
      "|2022|     1.5|     0.37|       0.15|        0.0|       0.0|      Salmón Filetes|             Bonarea|        Spain|          A|          0|\n",
      "|2022|     0.0|     0.02|       0.01|       50.0|       0.0|Glaze With Balsam...|       not specified|United States|          D|          3|\n",
      "|2020|   33.33|     0.78|       0.31|       7.14|      21.4|Whipped peanut bu...|           Slim fast|United States|          D|          3|\n",
      "|2023|    31.8|     0.12|       0.05|       48.4|       0.0|       Chocolat sale|Lindt,Lindt Excel...|    Australia|          E|          4|\n",
      "|2022|     0.0|      0.0|        0.0|        0.0|       0.0|Tic tac fruit adv...|             Tic Tac|United States|          B|          1|\n",
      "|2023|     0.0|      0.0|        0.0|        0.0|       0.0|Tic Tac Orange Fl...|             Tic Tac|United States|          B|          1|\n",
      "|2020|   12.31|     0.62|       0.25|      35.38|       1.5|The Father's Tabl...|The Father's Tabl...|United States|          D|          3|\n",
      "|2020|     0.0|      0.0|        0.0|       8.33|       0.4|Citrus twist oran...|       not specified|United States|          D|          3|\n",
      "|2022|     1.0|      0.0|        0.0|       14.0|       4.0|         Fruity gems|              Kroger|United States|          A|          0|\n",
      "|2023|     0.0|     0.13|       0.05|      80.95|       0.0|           Hot Honey|Kroger, The Kroge...|United States|          D|          3|\n",
      "|2023|   21.43|     0.98|       0.39|        0.0|      7.14|     Tortilla Rounds|              Kroger|United States|          C|          2|\n",
      "|2020|    7.07|     1.95|       0.78|       6.06|       2.0|Everything egg ba...|       not specified|United States|          D|          3|\n",
      "|2020|   18.87|     0.74|        0.3|      32.08|       0.9|             Muffins|Bakery Fresh Good...|United States|          D|          3|\n",
      "|2020|    2.08|     0.13|       0.05|       4.58|       0.0|2% reduced fat milk.|       not specified|United States|          B|          1|\n",
      "|2020|   16.54|     0.47|       0.19|      21.05|       0.0|    Tres Leghes Cake|   Private Selection|United States|          D|          3|\n",
      "|2020|   16.67|      2.0|        0.8|        0.0|       0.0|Finely Shredded R...|              Kroger|United States|          D|          3|\n",
      "|2021|   17.86|     1.81|       0.73|       3.57|       1.0|Mozzarella shredd...|Simple truth organic|United States|          D|          3|\n",
      "|2020|    9.38|      0.2|       0.08|      23.44|       0.0|           Ice Cream|      The Kroger Co.|United States|          D|          3|\n",
      "+----+--------+---------+-----------+-----------+----------+--------------------+--------------------+-------------+-----------+-----------+\n",
      "only showing top 20 rows\n",
      "\n"
     ]
    },
    {
     "name": "stderr",
     "output_type": "stream",
     "text": [
      "                                                                                \r"
     ]
    },
    {
     "name": "stdout",
     "output_type": "stream",
     "text": [
      "+-----------+------+\n",
      "|nutri_label| Count|\n",
      "+-----------+------+\n",
      "|          1|131387|\n",
      "|          3|286165|\n",
      "|          4|178366|\n",
      "|          2|200148|\n",
      "|          0| 89973|\n",
      "+-----------+------+\n",
      "\n"
     ]
    },
    {
     "name": "stderr",
     "output_type": "stream",
     "text": [
      "[Stage 51:=====================================================>  (57 + 3) / 60]\r"
     ]
    },
    {
     "name": "stdout",
     "output_type": "stream",
     "text": [
      "886039\n"
     ]
    },
    {
     "name": "stderr",
     "output_type": "stream",
     "text": [
      "                                                                                \r"
     ]
    }
   ],
   "source": [
    "## Convert the labels to Ints\n",
    "## we could use an inbuilt encoder too, but we are using spark UDF function\n",
    "from pyspark.sql.functions import udf\n",
    "from pyspark.sql.types import IntegerType\n",
    "\n",
    "def convert_to_int(name):\n",
    "    mp = { 'A': 0, 'B': 1, 'C': 2, 'D': 3, 'E': 4 }\n",
    "    return mp[name]\n",
    "\n",
    "# Register the Python function as a UDF\n",
    "convert_to_int_udf = udf(convert_to_int, IntegerType())\n",
    "\n",
    "train_set = train_set.withColumn('nutri_label', convert_to_int_udf(train_set['nutri_score']))\n",
    "# train_set.printSchema()\n",
    "\n",
    "# Check the final dataframes\n",
    "display_cols = ['fat_100g', 'salt_100g', 'sodium_100g', 'sugars_100g', 'fiber_100g']\n",
    "display_cols += ['product_name', 'brands', 'countries_en']\n",
    "display_cols.insert(0, 'year')\n",
    "display_cols.append('nutri_score')\n",
    "display_cols.append('nutri_label')\n",
    "train_set.select(display_cols).show()\n",
    "import pyspark.sql.functions as F\n",
    "train_set.groupBy('nutri_label').agg(F.count('*').alias('Count')).show()\n",
    "print(train_set.count())"
   ]
  },
  {
   "cell_type": "code",
   "execution_count": 29,
   "metadata": {
    "tags": []
   },
   "outputs": [],
   "source": [
    "# pick only the 100g features\n",
    "features = ['energy_100g',\n",
    " 'fat_100g',\n",
    " 'saturated-fat_100g',\n",
    " 'monounsaturated-fat_100g',\n",
    " 'polyunsaturated-fat_100g',\n",
    " 'trans-fat_100g',\n",
    " 'cholesterol_100g',\n",
    " 'carbohydrates_100g',\n",
    " 'sugars_100g',\n",
    " 'fiber_100g',\n",
    " 'proteins_100g',\n",
    " 'salt_100g',\n",
    " 'sodium_100g',\n",
    " 'alcohol_100g',\n",
    " 'vitamin-a_100g',\n",
    " 'vitamin-d_100g',\n",
    " 'vitamin-c_100g',\n",
    " 'vitamin-b1_100g',\n",
    " 'vitamin-b2_100g',\n",
    " 'vitamin-pp_100g',\n",
    " 'vitamin-b6_100g',\n",
    " 'vitamin-b9_100g',\n",
    " 'folates_100g',\n",
    " 'vitamin-b12_100g',\n",
    " 'pantothenic-acid_100g',\n",
    " 'potassium_100g',\n",
    " 'calcium_100g',\n",
    " 'phosphorus_100g',\n",
    " 'iron_100g',\n",
    " 'magnesium_100g',\n",
    " 'zinc_100g',\n",
    " 'fruits-vegetables-nuts_100g',\n",
    " 'fruits-vegetables-nuts-estimate_100g',\n",
    " 'cocoa_100g']\n",
    "\n",
    "# use SparkXGB Classifier Model\n",
    "spark_reg_classifier = SparkXGBClassifier(\n",
    "  features_col = features,\n",
    "  label_col = \"nutri_label\",              \n",
    "  use_gpu = True)\n",
    "\n",
    "# Currently, we are splitting the data randomly at 70%/30% ratio \n",
    "trainDF, testDF = train_set.randomSplit([0.7, 0.3], seed = 24)"
   ]
  },
  {
   "cell_type": "code",
   "execution_count": 30,
   "metadata": {
    "tags": []
   },
   "outputs": [
    {
     "name": "stderr",
     "output_type": "stream",
     "text": [
      "If features_cols param set, then features_col param is ignored.\n",
      "You enabled use_gpu in spark local mode. Please make sure your local node has at least 1 GPUs\n",
      "[11:39:36] task 0 got new rank 0                                    (0 + 1) / 1]\n",
      "/home/bofh/.local/lib/python3.10/site-packages/xgboost/sklearn.py:782: UserWarning: Loading a native XGBoost model with Scikit-Learn interface.\n",
      "  warnings.warn(\"Loading a native XGBoost model with Scikit-Learn interface.\")\n"
     ]
    }
   ],
   "source": [
    "# Fit\n",
    "model = spark_reg_classifier.fit(trainDF)"
   ]
  },
  {
   "cell_type": "code",
   "execution_count": 31,
   "metadata": {
    "tags": []
   },
   "outputs": [],
   "source": [
    "# Predict\n",
    "predict_df = model.transform(testDF)"
   ]
  },
  {
   "cell_type": "code",
   "execution_count": 39,
   "metadata": {
    "tags": []
   },
   "outputs": [],
   "source": [
    "# Define Accuracy function\n",
    "from pyspark.sql.types import IntegerType\n",
    "def get_acc(predict_df):\n",
    "    predict_df_2 = predict_df.withColumn('are_same', when(col('prediction').cast(IntegerType()) == col('nutri_label'), 1).otherwise(0) )\n",
    "    are_same = predict_df_2.select(sum('are_same')).collect()[0][0]\n",
    "    tot = predict_df.count()\n",
    "    return are_same/tot"
   ]
  },
  {
   "cell_type": "code",
   "execution_count": 33,
   "metadata": {
    "tags": []
   },
   "outputs": [
    {
     "name": "stderr",
     "output_type": "stream",
     "text": [
      "                                                                                \r"
     ]
    },
    {
     "data": {
      "text/plain": [
       "0.9012315956574404"
      ]
     },
     "execution_count": 33,
     "metadata": {},
     "output_type": "execute_result"
    }
   ],
   "source": [
    "get_acc(predict_df)"
   ]
  },
  {
   "cell_type": "code",
   "execution_count": null,
   "metadata": {},
   "outputs": [],
   "source": []
  }
 ],
 "metadata": {
  "kernelspec": {
   "display_name": "Python 3 (ipykernel)",
   "language": "python",
   "name": "python3"
  },
  "language_info": {
   "codemirror_mode": {
    "name": "ipython",
    "version": 3
   },
   "file_extension": ".py",
   "mimetype": "text/x-python",
   "name": "python",
   "nbconvert_exporter": "python",
   "pygments_lexer": "ipython3",
   "version": "3.10.9"
  }
 },
 "nbformat": 4,
 "nbformat_minor": 4
}
